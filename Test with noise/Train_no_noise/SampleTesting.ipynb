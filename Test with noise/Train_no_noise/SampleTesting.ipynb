{
 "cells": [
  {
   "cell_type": "markdown",
   "id": "6620ae21-9271-46cc-aeeb-a925df7fb68c",
   "metadata": {},
   "source": [
    "# DEPENDENCIES AND FUNCTIONS"
   ]
  },
  {
   "cell_type": "code",
   "execution_count": 1,
   "id": "d8e8ebe8-9044-4659-9f51-0dbf069e5207",
   "metadata": {},
   "outputs": [],
   "source": [
    "import numpy as np\n",
    "from qiskit import QuantumCircuit\n",
    "from qiskit.visualization import plot_histogram, circuit_drawer, plot_state_qsphere\n",
    "from qiskit_aer import AerSimulator\n",
    "from qiskit_aer.noise import pauli_error, NoiseModel, depolarizing_error\n",
    "from qiskit.transpiler.preset_passmanagers import generate_preset_pass_manager\n",
    "from qiskit.quantum_info import Statevector, Kraus, SuperOp\n",
    "from qiskit_ibm_runtime import SamplerV2\n",
    "from qiskit.result import sampled_expectation_value\n",
    "from qiskit.quantum_info import Pauli"
   ]
  },
  {
   "cell_type": "code",
   "execution_count": 2,
   "id": "845972ff-c667-4834-8f1a-ac39acb9fdb1",
   "metadata": {},
   "outputs": [],
   "source": [
    "import networkx as nx"
   ]
  },
  {
   "cell_type": "code",
   "execution_count": 3,
   "id": "733114a5-4029-41a0-b46b-b309aee9946a",
   "metadata": {},
   "outputs": [],
   "source": [
    "from qiskit.circuit import ParameterVector"
   ]
  },
  {
   "cell_type": "code",
   "execution_count": 4,
   "id": "1666a907-3180-440c-9f33-31e63a0f2dee",
   "metadata": {},
   "outputs": [],
   "source": [
    "import matplotlib.pyplot as plt"
   ]
  },
  {
   "cell_type": "code",
   "execution_count": 5,
   "id": "31ab271c-e22d-4198-acd1-18d5b51bcff5",
   "metadata": {},
   "outputs": [],
   "source": [
    "from qiskit.quantum_info import SparsePauliOp"
   ]
  },
  {
   "cell_type": "code",
   "execution_count": 6,
   "id": "959d6d11-8f38-46c4-90e9-66517fd9384e",
   "metadata": {},
   "outputs": [],
   "source": [
    "from qiskit_ibm_runtime import EstimatorV2\n",
    "estimator = EstimatorV2(backend=AerSimulator())"
   ]
  },
  {
   "cell_type": "code",
   "execution_count": 7,
   "id": "bc6bd13b-41e6-4c26-9534-f19b13425a85",
   "metadata": {},
   "outputs": [],
   "source": [
    "from scipy.optimize import minimize"
   ]
  },
  {
   "cell_type": "code",
   "execution_count": 8,
   "id": "ea03d05f-9d60-454b-8101-9c72e3f58548",
   "metadata": {},
   "outputs": [],
   "source": [
    "import csv"
   ]
  },
  {
   "cell_type": "code",
   "execution_count": 9,
   "id": "f6cfa797-99ed-4b0d-9171-789ca6861424",
   "metadata": {},
   "outputs": [],
   "source": [
    "import pandas as pd"
   ]
  },
  {
   "cell_type": "code",
   "execution_count": 10,
   "id": "4e23e614-6a15-433c-ad76-3c5e5a0c1644",
   "metadata": {},
   "outputs": [],
   "source": [
    "def create_qaoa_circuit(p, n, G):\n",
    "    \n",
    "    gamma = ParameterVector('γ',p)\n",
    "    beta = ParameterVector('β',p)\n",
    "    \n",
    "    qc = QuantumCircuit(n, name='q')\n",
    "    qc.h(range(n)) #superposition\n",
    "    \n",
    "    for i in range(p):\n",
    "        for edge in G.edges(): #problem hamiltonian\n",
    "            qc.rzz(gamma[i], edge[0], edge[1])\n",
    "        for qubit in range(n): #mixer Hamiltonian\n",
    "            qc.rx(2 * beta[i], qubit)\n",
    "        if i != p-1:\n",
    "            qc.barrier()\n",
    "    return qc"
   ]
  },
  {
   "cell_type": "code",
   "execution_count": 11,
   "id": "db2a7265-3b96-4ed9-b5c0-06d797adf307",
   "metadata": {},
   "outputs": [],
   "source": [
    "def create_observables(graph, nodes):\n",
    "    observables = []\n",
    "    for edge in graph.edges():\n",
    "        str = 'I'*nodes\n",
    "        s_list = list(str)\n",
    "        s_list[edge[0]]='Z'\n",
    "        s_list[edge[1]]='Z'\n",
    "        new_string = ''.join(s_list)\n",
    "        observables.append(SparsePauliOp(new_string))\n",
    "    return observables"
   ]
  },
  {
   "cell_type": "code",
   "execution_count": 12,
   "id": "54403df5-b603-41bd-86e9-df6d4bdd0859",
   "metadata": {},
   "outputs": [],
   "source": [
    "def obtain_expval(params: list, qaoa: QuantumCircuit, observables: list, estimator) -> float:\n",
    "    # execute the circuit\n",
    "    job = estimator.run([(qaoa, observables, params)])\n",
    "    result = job.result()[0]\n",
    "\n",
    "    # sum up values\n",
    "    value = sum(result.data.evs)\n",
    "\n",
    "    return value"
   ]
  },
  {
   "cell_type": "markdown",
   "id": "ff186166-e6c9-4262-a3db-14b6b449cbab",
   "metadata": {},
   "source": [
    "# COMPARING NAIVE AND TWO FOLD APPROACH"
   ]
  },
  {
   "cell_type": "code",
   "execution_count": 13,
   "id": "f849918d-55b6-47e0-a588-35b4c00527e0",
   "metadata": {},
   "outputs": [],
   "source": [
    "import joblib\n",
    "gpr_models = joblib.load('gpr_models.pkl')\n",
    "scaler = joblib.load('scaler.pkl')"
   ]
  },
  {
   "cell_type": "markdown",
   "id": "0afd3364-e8d1-40cd-b7a7-5adcd77d97f1",
   "metadata": {},
   "source": [
    "### NAIVE APPROACH"
   ]
  },
  {
   "cell_type": "code",
   "execution_count": 686,
   "id": "7de4e94f-fed1-44cc-8790-57c9fa8db8e0",
   "metadata": {},
   "outputs": [],
   "source": [
    "import time"
   ]
  },
  {
   "cell_type": "code",
   "execution_count": 687,
   "id": "05e199e9-43ad-492f-a8a6-0a471a9b149c",
   "metadata": {},
   "outputs": [
    {
     "name": "stdout",
     "output_type": "stream",
     "text": [
      "Elapsed time: 9.311876058578491 seconds\n"
     ]
    }
   ],
   "source": [
    "nodes = 8\n",
    "t_depth = 5\n",
    "graph = nx.erdos_renyi_graph(nodes, 0.5)\n",
    "qaoa = create_qaoa_circuit(t_depth, nodes, graph)\n",
    "qaoa.measure_all()\n",
    "observables = create_observables(graph, nodes)\n",
    "init_params = [0]*qaoa.num_parameters\n",
    "qaoa_params = qaoa.assign_parameters(init_params)\n",
    "start = time.time()\n",
    "ideal_res = minimize(\n",
    "        obtain_expval, init_params, args=(qaoa.copy(), observables, estimator), method=\"L-BFGS-B\"\n",
    ")\n",
    "end = time.time()\n",
    "elapsed_time = end - start\n",
    "print(f\"Elapsed time: {elapsed_time} seconds\")"
   ]
  },
  {
   "cell_type": "markdown",
   "id": "448627e5-cefb-44a5-94b5-a6b436cf55ad",
   "metadata": {},
   "source": [
    "### TWO_FOLD APPROACH"
   ]
  },
  {
   "cell_type": "code",
   "execution_count": 688,
   "id": "fac072df-82e3-42c0-8ff0-e397a903753b",
   "metadata": {},
   "outputs": [],
   "source": [
    "depth=1\n",
    "qaoa = create_qaoa_circuit(depth, nodes, graph)\n",
    "qaoa.measure_all()\n",
    "observables = create_observables(graph, nodes)\n",
    "init_params = [0]*qaoa.num_parameters\n",
    "qaoa_params = qaoa.assign_parameters(init_params)\n",
    "ideal_res_new = minimize(\n",
    "        obtain_expval, init_params, args=(qaoa.copy(), observables, estimator), method=\"L-BFGS-B\"\n",
    ")"
   ]
  },
  {
   "cell_type": "code",
   "execution_count": 689,
   "id": "4cdd6056-91c2-4c90-bafb-5b77d72e0f8c",
   "metadata": {},
   "outputs": [],
   "source": [
    "arr = []\n",
    "arr = arr + list(ideal_res_new.x)\n",
    "arr.append(t_depth)\n",
    "arr=np.array(arr)\n",
    "arr=arr.reshape(1,-1)"
   ]
  },
  {
   "cell_type": "code",
   "execution_count": 690,
   "id": "93755039-066a-4d33-b5dc-290ec71a3825",
   "metadata": {},
   "outputs": [],
   "source": [
    "#new_data = scaler.transform(arr)\n",
    "data = arr[0]\n",
    "predictions = []\n",
    "for i in range(int(data[2]-1)):\n",
    "    predictions.append(gpr_models[i].predict(arr))\n",
    "\n",
    "for i in range(int(data[2]-1)):\n",
    "    predictions.append(gpr_models[i+5].predict(arr))"
   ]
  },
  {
   "cell_type": "code",
   "execution_count": 691,
   "id": "08e400fe-f856-4aa3-a9c8-9d1b63817c8a",
   "metadata": {},
   "outputs": [],
   "source": [
    "init_params = predictions\n",
    "init_params.insert(0, data[0])\n",
    "init_params.insert(t_depth, data[1])\n",
    "init_params = [item if not isinstance(item, np.ndarray) else item.item() for item in init_params]"
   ]
  },
  {
   "cell_type": "code",
   "execution_count": 692,
   "id": "1a89c1e4-86c7-4f2c-952e-aae395697e22",
   "metadata": {},
   "outputs": [
    {
     "name": "stdout",
     "output_type": "stream",
     "text": [
      "Elapsed time: 6.883686780929565 seconds\n"
     ]
    }
   ],
   "source": [
    "qaoa = create_qaoa_circuit(t_depth, nodes, graph)\n",
    "qaoa.measure_all()\n",
    "observables = create_observables(graph, nodes)\n",
    "qaoa_params = qaoa.assign_parameters(init_params)\n",
    "start = time.time()\n",
    "ideal_res_new2 = minimize(\n",
    "        obtain_expval, init_params, args=(qaoa.copy(), observables, estimator), method=\"L-BFGS-B\"\n",
    ")\n",
    "end = time.time()\n",
    "elapsed_time_new = end - start\n",
    "print(f\"Elapsed time: {elapsed_time_new} seconds\")"
   ]
  },
  {
   "cell_type": "code",
   "execution_count": 693,
   "id": "3c0ef567-622c-4444-b926-acd3a6022a5e",
   "metadata": {},
   "outputs": [
    {
     "name": "stdout",
     "output_type": "stream",
     "text": [
      "number of iterations in naive approach :  4\n",
      "number of iterations in two-fold approach :  2\n",
      "number of seconds in naive approach :  9.311876058578491\n",
      "number of seconds in two-fold approach :  6.883686780929565\n"
     ]
    }
   ],
   "source": [
    "print(\"number of iterations in naive approach : \", ideal_res.nit)\n",
    "print(\"number of iterations in two-fold approach : \", ideal_res_new2.nit)\n",
    "print(\"number of seconds in naive approach : \", elapsed_time)\n",
    "print(\"number of seconds in two-fold approach : \", elapsed_time_new)"
   ]
  },
  {
   "cell_type": "code",
   "execution_count": 694,
   "id": "dcbf40e8-5f2e-40af-8c08-f835af0beb3b",
   "metadata": {},
   "outputs": [
    {
     "name": "stdout",
     "output_type": "stream",
     "text": [
      "Reduction of time : 26.076262853734782%\n"
     ]
    }
   ],
   "source": [
    "diff=100*(elapsed_time - elapsed_time_new)/elapsed_time\n",
    "print(f'Reduction of time : {diff}%')"
   ]
  },
  {
   "cell_type": "code",
   "execution_count": 695,
   "id": "f8456ee4-e0dc-4cfa-ae2c-0c50670cc3ce",
   "metadata": {},
   "outputs": [],
   "source": [
    "graphs.append(graph)"
   ]
  },
  {
   "cell_type": "code",
   "execution_count": 696,
   "id": "9af4c780-b35f-479d-a3de-4c97e6339a0d",
   "metadata": {},
   "outputs": [
    {
     "data": {
      "text/plain": [
       "20"
      ]
     },
     "execution_count": 696,
     "metadata": {},
     "output_type": "execute_result"
    }
   ],
   "source": [
    "len(graphs)"
   ]
  },
  {
   "cell_type": "code",
   "execution_count": 697,
   "id": "3d0a26b2-aaf7-4560-8180-90d550e1067a",
   "metadata": {},
   "outputs": [],
   "source": [
    "exp_data = [ideal_res.nit, ideal_res_new2.nit, elapsed_time, elapsed_time_new]"
   ]
  },
  {
   "cell_type": "code",
   "execution_count": 698,
   "id": "578bbbef-e0d7-47ca-b247-94c15bd72afb",
   "metadata": {},
   "outputs": [],
   "source": [
    "with open('SampleResults.csv', mode='a', newline='') as file:\n",
    "            writer = csv.writer(file)\n",
    "            writer.writerow(exp_data)"
   ]
  },
  {
   "cell_type": "markdown",
   "id": "77a57ca3-9485-4381-aaf9-ed356e9622a5",
   "metadata": {},
   "source": [
    "# INFERENCES"
   ]
  },
  {
   "cell_type": "code",
   "execution_count": 699,
   "id": "bfaa34b5-81b7-4f8d-98fa-8d9e491134ed",
   "metadata": {},
   "outputs": [],
   "source": [
    "# Load the CSV file\n",
    "df = pd.read_csv('SampleResults.csv')\n",
    "# Calculate the difference between the first two columns\n",
    "df['Difference (nit)'] = df.iloc[:, 0] - df.iloc[:, 1]\n",
    "# Insert the new column after the second column (index 2)\n",
    "df.insert(2, 'Difference (nit)', df.pop('Difference (nit)'))\n",
    "# Save the updated DataFrame back to the CSV file\n",
    "df.to_csv('SampleResults.csv', index=False)\n"
   ]
  },
  {
   "cell_type": "code",
   "execution_count": 700,
   "id": "b390be77-5701-4d1f-a464-df369967629d",
   "metadata": {},
   "outputs": [],
   "source": [
    "# Load the CSV file\n",
    "df = pd.read_csv('SampleResults.csv')\n",
    "# Calculate the difference between the first two columns\n",
    "df['Difference (time)'] = df.iloc[:, 3] - df.iloc[:, 4]\n",
    "# Save the updated DataFrame back to the CSV file\n",
    "df.to_csv('SampleResults.csv', index=False)\n"
   ]
  },
  {
   "cell_type": "code",
   "execution_count": 702,
   "id": "e969fe97-1f16-4bc0-8466-99930efdb455",
   "metadata": {},
   "outputs": [
    {
     "name": "stdout",
     "output_type": "stream",
     "text": [
      "The average reduction of time is: 18.161796647832638%\n",
      "The average reduction of iterations is: 27.142857142857146%\n"
     ]
    }
   ],
   "source": [
    "df = pd.read_csv('SampleResults.csv')\n",
    "\n",
    "tf_time = df['Two-fold (time in sec)']\n",
    "tf_time_avg = tf_time.mean()\n",
    "\n",
    "naive_time = df['Naive (time in sec)']\n",
    "naive_time_avg = naive_time.mean()\n",
    "\n",
    "naive_nit = df['Naive(nit)']\n",
    "naive_nit_avg = naive_nit.mean()\n",
    "\n",
    "tf_nit = df['Two-fold (nit)']\n",
    "tf_nit_avg = tf_nit.mean()\n",
    "\n",
    "red_nit = 100*(naive_nit_avg - tf_nit_avg)/(naive_nit_avg)\n",
    "red_time = 100*(naive_time_avg - tf_time_avg)/(naive_time_avg)\n",
    "\n",
    "print(f\"The average reduction of time is: {red_time}%\")\n",
    "print(f\"The average reduction of iterations is: {red_nit}%\")"
   ]
  },
  {
   "cell_type": "code",
   "execution_count": 703,
   "id": "6998627c-2269-4095-9c06-c6e4654c79ff",
   "metadata": {},
   "outputs": [],
   "source": [
    "max_time = df['Difference (time)'].max()\n",
    "max_it = df['Difference (nit)'].max()\n",
    "max_time_row = df[df['Difference (time)'] == max_time]\n",
    "max_it_row = df[df['Difference (nit)'] == max_it]"
   ]
  },
  {
   "cell_type": "code",
   "execution_count": 704,
   "id": "f19c63a1-fffd-4107-969f-d6058b4bb1e5",
   "metadata": {},
   "outputs": [
    {
     "data": {
      "text/plain": [
       "(5.609657526016234, 2)"
      ]
     },
     "execution_count": 704,
     "metadata": {},
     "output_type": "execute_result"
    }
   ],
   "source": [
    "max_time, max_it"
   ]
  },
  {
   "cell_type": "code",
   "execution_count": 705,
   "id": "99571c8a-937d-4c16-ab50-4584ce61090e",
   "metadata": {},
   "outputs": [
    {
     "data": {
      "text/html": [
       "<div>\n",
       "<style scoped>\n",
       "    .dataframe tbody tr th:only-of-type {\n",
       "        vertical-align: middle;\n",
       "    }\n",
       "\n",
       "    .dataframe tbody tr th {\n",
       "        vertical-align: top;\n",
       "    }\n",
       "\n",
       "    .dataframe thead th {\n",
       "        text-align: right;\n",
       "    }\n",
       "</style>\n",
       "<table border=\"1\" class=\"dataframe\">\n",
       "  <thead>\n",
       "    <tr style=\"text-align: right;\">\n",
       "      <th></th>\n",
       "      <th>Naive(nit)</th>\n",
       "      <th>Two-fold (nit)</th>\n",
       "      <th>Difference (nit)</th>\n",
       "      <th>Naive (time in sec)</th>\n",
       "      <th>Two-fold (time in sec)</th>\n",
       "      <th>Difference (time)</th>\n",
       "    </tr>\n",
       "  </thead>\n",
       "  <tbody>\n",
       "    <tr>\n",
       "      <th>8</th>\n",
       "      <td>5</td>\n",
       "      <td>3</td>\n",
       "      <td>2</td>\n",
       "      <td>13.148677</td>\n",
       "      <td>7.53902</td>\n",
       "      <td>5.609658</td>\n",
       "    </tr>\n",
       "  </tbody>\n",
       "</table>\n",
       "</div>"
      ],
      "text/plain": [
       "   Naive(nit)  Two-fold (nit)  Difference (nit)  Naive (time in sec)  \\\n",
       "8           5               3                 2            13.148677   \n",
       "\n",
       "   Two-fold (time in sec)  Difference (time)  \n",
       "8                 7.53902           5.609658  "
      ]
     },
     "execution_count": 705,
     "metadata": {},
     "output_type": "execute_result"
    }
   ],
   "source": [
    "max_time_row"
   ]
  },
  {
   "cell_type": "code",
   "execution_count": 706,
   "id": "8dc475c0-1806-431f-b250-253b7a7c6b8b",
   "metadata": {},
   "outputs": [
    {
     "data": {
      "text/html": [
       "<div>\n",
       "<style scoped>\n",
       "    .dataframe tbody tr th:only-of-type {\n",
       "        vertical-align: middle;\n",
       "    }\n",
       "\n",
       "    .dataframe tbody tr th {\n",
       "        vertical-align: top;\n",
       "    }\n",
       "\n",
       "    .dataframe thead th {\n",
       "        text-align: right;\n",
       "    }\n",
       "</style>\n",
       "<table border=\"1\" class=\"dataframe\">\n",
       "  <thead>\n",
       "    <tr style=\"text-align: right;\">\n",
       "      <th></th>\n",
       "      <th>Naive(nit)</th>\n",
       "      <th>Two-fold (nit)</th>\n",
       "      <th>Difference (nit)</th>\n",
       "      <th>Naive (time in sec)</th>\n",
       "      <th>Two-fold (time in sec)</th>\n",
       "      <th>Difference (time)</th>\n",
       "    </tr>\n",
       "  </thead>\n",
       "  <tbody>\n",
       "    <tr>\n",
       "      <th>0</th>\n",
       "      <td>3</td>\n",
       "      <td>1</td>\n",
       "      <td>2</td>\n",
       "      <td>7.917268</td>\n",
       "      <td>4.457211</td>\n",
       "      <td>3.460056</td>\n",
       "    </tr>\n",
       "    <tr>\n",
       "      <th>1</th>\n",
       "      <td>5</td>\n",
       "      <td>3</td>\n",
       "      <td>2</td>\n",
       "      <td>9.744800</td>\n",
       "      <td>7.135363</td>\n",
       "      <td>2.609437</td>\n",
       "    </tr>\n",
       "    <tr>\n",
       "      <th>4</th>\n",
       "      <td>6</td>\n",
       "      <td>4</td>\n",
       "      <td>2</td>\n",
       "      <td>9.411818</td>\n",
       "      <td>10.662183</td>\n",
       "      <td>-1.250366</td>\n",
       "    </tr>\n",
       "    <tr>\n",
       "      <th>8</th>\n",
       "      <td>5</td>\n",
       "      <td>3</td>\n",
       "      <td>2</td>\n",
       "      <td>13.148677</td>\n",
       "      <td>7.539020</td>\n",
       "      <td>5.609658</td>\n",
       "    </tr>\n",
       "    <tr>\n",
       "      <th>18</th>\n",
       "      <td>4</td>\n",
       "      <td>2</td>\n",
       "      <td>2</td>\n",
       "      <td>10.199342</td>\n",
       "      <td>6.871285</td>\n",
       "      <td>3.328057</td>\n",
       "    </tr>\n",
       "    <tr>\n",
       "      <th>19</th>\n",
       "      <td>4</td>\n",
       "      <td>2</td>\n",
       "      <td>2</td>\n",
       "      <td>9.311876</td>\n",
       "      <td>6.883687</td>\n",
       "      <td>2.428189</td>\n",
       "    </tr>\n",
       "  </tbody>\n",
       "</table>\n",
       "</div>"
      ],
      "text/plain": [
       "    Naive(nit)  Two-fold (nit)  Difference (nit)  Naive (time in sec)  \\\n",
       "0            3               1                 2             7.917268   \n",
       "1            5               3                 2             9.744800   \n",
       "4            6               4                 2             9.411818   \n",
       "8            5               3                 2            13.148677   \n",
       "18           4               2                 2            10.199342   \n",
       "19           4               2                 2             9.311876   \n",
       "\n",
       "    Two-fold (time in sec)  Difference (time)  \n",
       "0                 4.457211           3.460056  \n",
       "1                 7.135363           2.609437  \n",
       "4                10.662183          -1.250366  \n",
       "8                 7.539020           5.609658  \n",
       "18                6.871285           3.328057  \n",
       "19                6.883687           2.428189  "
      ]
     },
     "execution_count": 706,
     "metadata": {},
     "output_type": "execute_result"
    }
   ],
   "source": [
    "max_it_row"
   ]
  },
  {
   "cell_type": "code",
   "execution_count": 710,
   "id": "399e9d4f-31e7-4cb9-a839-d4745e058467",
   "metadata": {},
   "outputs": [
    {
     "name": "stdout",
     "output_type": "stream",
     "text": [
      "The maximum reduction of time is: 43.15121173858641%\n",
      "The maximum reduction of iterations is: 50.0%\n"
     ]
    },
    {
     "name": "stderr",
     "output_type": "stream",
     "text": [
      "/tmp/ipykernel_4651/607007855.py:1: FutureWarning: Calling int on a single element Series is deprecated and will raise a TypeError in the future. Use int(ser.iloc[0]) instead\n",
      "  mred_time = 100*(max_time/int(max_time_row['Naive (time in sec)']))\n"
     ]
    }
   ],
   "source": [
    "mred_time = 100*(max_time/int(max_time_row['Naive (time in sec)']))\n",
    "mred_nit = 100*(max_it/int(max_it_row['Naive(nit)'].iloc[4]))\n",
    "\n",
    "print(f\"The maximum reduction of time is: {mred_time}%\")\n",
    "print(f\"The maximum reduction of iterations is: {mred_nit}%\")"
   ]
  },
  {
   "cell_type": "code",
   "execution_count": 711,
   "id": "18c992e0-762d-46d9-aecb-f8bde62b8a5a",
   "metadata": {},
   "outputs": [
    {
     "name": "stdout",
     "output_type": "stream",
     "text": [
      "Adjacency Matrix (Array Form):\n",
      "[[0. 0. 1. 0. 0. 0. 0. 0.]\n",
      " [0. 0. 1. 1. 1. 0. 0. 0.]\n",
      " [1. 1. 0. 1. 1. 1. 1. 0.]\n",
      " [0. 1. 1. 0. 0. 0. 0. 1.]\n",
      " [0. 1. 1. 0. 0. 0. 0. 0.]\n",
      " [0. 0. 1. 0. 0. 0. 1. 0.]\n",
      " [0. 0. 1. 0. 0. 1. 0. 0.]\n",
      " [0. 0. 0. 1. 0. 0. 0. 0.]]\n",
      "Adjacency Matrix (Array Form):\n",
      "[[0. 1. 1. 0. 1. 1. 0. 1.]\n",
      " [1. 0. 1. 0. 0. 1. 1. 0.]\n",
      " [1. 1. 0. 0. 0. 0. 1. 1.]\n",
      " [0. 0. 0. 0. 0. 0. 1. 1.]\n",
      " [1. 0. 0. 0. 0. 0. 0. 0.]\n",
      " [1. 1. 0. 0. 0. 0. 1. 0.]\n",
      " [0. 1. 1. 1. 0. 1. 0. 1.]\n",
      " [1. 0. 1. 1. 0. 0. 1. 0.]]\n",
      "Adjacency Matrix (Array Form):\n",
      "[[0. 0. 1. 1. 1. 0. 1. 0.]\n",
      " [0. 0. 0. 0. 0. 0. 0. 0.]\n",
      " [1. 0. 0. 0. 1. 1. 1. 0.]\n",
      " [1. 0. 0. 0. 1. 0. 0. 0.]\n",
      " [1. 0. 1. 1. 0. 0. 1. 0.]\n",
      " [0. 0. 1. 0. 0. 0. 1. 0.]\n",
      " [1. 0. 1. 0. 1. 1. 0. 0.]\n",
      " [0. 0. 0. 0. 0. 0. 0. 0.]]\n",
      "Adjacency Matrix (Array Form):\n",
      "[[0. 1. 1. 0. 1. 1. 1. 0.]\n",
      " [1. 0. 0. 0. 1. 0. 0. 1.]\n",
      " [1. 0. 0. 1. 1. 1. 1. 0.]\n",
      " [0. 0. 1. 0. 0. 1. 1. 1.]\n",
      " [1. 1. 1. 0. 0. 1. 0. 0.]\n",
      " [1. 0. 1. 1. 1. 0. 1. 1.]\n",
      " [1. 0. 1. 1. 0. 1. 0. 0.]\n",
      " [0. 1. 0. 1. 0. 1. 0. 0.]]\n",
      "Adjacency Matrix (Array Form):\n",
      "[[0. 1. 1. 0. 1. 1. 1. 1.]\n",
      " [1. 0. 0. 1. 1. 1. 0. 0.]\n",
      " [1. 0. 0. 0. 1. 1. 0. 0.]\n",
      " [0. 1. 0. 0. 1. 0. 0. 1.]\n",
      " [1. 1. 1. 1. 0. 0. 0. 0.]\n",
      " [1. 1. 1. 0. 0. 0. 1. 1.]\n",
      " [1. 0. 0. 0. 0. 1. 0. 1.]\n",
      " [1. 0. 0. 1. 0. 1. 1. 0.]]\n",
      "Adjacency Matrix (Array Form):\n",
      "[[0. 1. 1. 1. 1. 1. 0. 1.]\n",
      " [1. 0. 0. 1. 1. 0. 1. 0.]\n",
      " [1. 0. 0. 1. 0. 1. 0. 0.]\n",
      " [1. 1. 1. 0. 1. 0. 0. 0.]\n",
      " [1. 1. 0. 1. 0. 1. 1. 1.]\n",
      " [1. 0. 1. 0. 1. 0. 1. 1.]\n",
      " [0. 1. 0. 0. 1. 1. 0. 1.]\n",
      " [1. 0. 0. 0. 1. 1. 1. 0.]]\n",
      "Adjacency Matrix (Array Form):\n",
      "[[0. 0. 0. 0. 1. 1. 0. 0.]\n",
      " [0. 0. 1. 0. 0. 0. 0. 1.]\n",
      " [0. 1. 0. 1. 0. 1. 0. 1.]\n",
      " [0. 0. 1. 0. 0. 1. 1. 0.]\n",
      " [1. 0. 0. 0. 0. 1. 1. 1.]\n",
      " [1. 0. 1. 1. 1. 0. 0. 0.]\n",
      " [0. 0. 0. 1. 1. 0. 0. 0.]\n",
      " [0. 1. 1. 0. 1. 0. 0. 0.]]\n",
      "Adjacency Matrix (Array Form):\n",
      "[[0. 1. 0. 0. 0. 0. 1. 1.]\n",
      " [1. 0. 1. 1. 1. 0. 0. 1.]\n",
      " [0. 1. 0. 0. 0. 0. 0. 1.]\n",
      " [0. 1. 0. 0. 1. 1. 1. 0.]\n",
      " [0. 1. 0. 1. 0. 1. 1. 0.]\n",
      " [0. 0. 0. 1. 1. 0. 1. 0.]\n",
      " [1. 0. 0. 1. 1. 1. 0. 1.]\n",
      " [1. 1. 1. 0. 0. 0. 1. 0.]]\n",
      "Adjacency Matrix (Array Form):\n",
      "[[0. 1. 1. 1. 1. 1. 1. 1.]\n",
      " [1. 0. 1. 0. 0. 1. 0. 0.]\n",
      " [1. 1. 0. 1. 1. 0. 1. 0.]\n",
      " [1. 0. 1. 0. 0. 1. 0. 0.]\n",
      " [1. 0. 1. 0. 0. 0. 1. 1.]\n",
      " [1. 1. 0. 1. 0. 0. 1. 0.]\n",
      " [1. 0. 1. 0. 1. 1. 0. 1.]\n",
      " [1. 0. 0. 0. 1. 0. 1. 0.]]\n",
      "Adjacency Matrix (Array Form):\n",
      "[[0. 0. 0. 1. 1. 0. 1. 0.]\n",
      " [0. 0. 0. 0. 0. 1. 1. 1.]\n",
      " [0. 0. 0. 1. 0. 1. 1. 0.]\n",
      " [1. 0. 1. 0. 1. 1. 0. 1.]\n",
      " [1. 0. 0. 1. 0. 1. 0. 0.]\n",
      " [0. 1. 1. 1. 1. 0. 1. 0.]\n",
      " [1. 1. 1. 0. 0. 1. 0. 0.]\n",
      " [0. 1. 0. 1. 0. 0. 0. 0.]]\n",
      "Adjacency Matrix (Array Form):\n",
      "[[0. 1. 0. 1. 1. 0. 0. 1.]\n",
      " [1. 0. 0. 0. 1. 1. 1. 1.]\n",
      " [0. 0. 0. 0. 0. 1. 1. 1.]\n",
      " [1. 0. 0. 0. 0. 1. 0. 1.]\n",
      " [1. 1. 0. 0. 0. 1. 0. 1.]\n",
      " [0. 1. 1. 1. 1. 0. 1. 0.]\n",
      " [0. 1. 1. 0. 0. 1. 0. 0.]\n",
      " [1. 1. 1. 1. 1. 0. 0. 0.]]\n",
      "Adjacency Matrix (Array Form):\n",
      "[[0. 1. 1. 0. 0. 0. 1. 0.]\n",
      " [1. 0. 0. 1. 0. 1. 0. 0.]\n",
      " [1. 0. 0. 1. 0. 1. 0. 1.]\n",
      " [0. 1. 1. 0. 1. 1. 1. 0.]\n",
      " [0. 0. 0. 1. 0. 1. 1. 1.]\n",
      " [0. 1. 1. 1. 1. 0. 1. 0.]\n",
      " [1. 0. 0. 1. 1. 1. 0. 1.]\n",
      " [0. 0. 1. 0. 1. 0. 1. 0.]]\n",
      "Adjacency Matrix (Array Form):\n",
      "[[0. 1. 0. 0. 0. 0. 0. 1.]\n",
      " [1. 0. 1. 0. 0. 1. 0. 0.]\n",
      " [0. 1. 0. 0. 1. 1. 0. 0.]\n",
      " [0. 0. 0. 0. 0. 0. 1. 1.]\n",
      " [0. 0. 1. 0. 0. 1. 1. 1.]\n",
      " [0. 1. 1. 0. 1. 0. 1. 1.]\n",
      " [0. 0. 0. 1. 1. 1. 0. 0.]\n",
      " [1. 0. 0. 1. 1. 1. 0. 0.]]\n",
      "Adjacency Matrix (Array Form):\n",
      "[[0. 1. 1. 1. 1. 0. 0. 0.]\n",
      " [1. 0. 1. 1. 0. 1. 0. 1.]\n",
      " [1. 1. 0. 1. 1. 0. 0. 1.]\n",
      " [1. 1. 1. 0. 1. 1. 1. 0.]\n",
      " [1. 0. 1. 1. 0. 0. 1. 1.]\n",
      " [0. 1. 0. 1. 0. 0. 1. 0.]\n",
      " [0. 0. 0. 1. 1. 1. 0. 0.]\n",
      " [0. 1. 1. 0. 1. 0. 0. 0.]]\n",
      "Adjacency Matrix (Array Form):\n",
      "[[0. 0. 0. 1. 0. 0. 0. 1.]\n",
      " [0. 0. 1. 0. 0. 0. 0. 0.]\n",
      " [0. 1. 0. 0. 1. 1. 1. 0.]\n",
      " [1. 0. 0. 0. 0. 1. 1. 0.]\n",
      " [0. 0. 1. 0. 0. 1. 1. 1.]\n",
      " [0. 0. 1. 1. 1. 0. 0. 0.]\n",
      " [0. 0. 1. 1. 1. 0. 0. 1.]\n",
      " [1. 0. 0. 0. 1. 0. 1. 0.]]\n",
      "Adjacency Matrix (Array Form):\n",
      "[[0. 0. 1. 0. 0. 1. 0. 0.]\n",
      " [0. 0. 0. 0. 0. 1. 1. 1.]\n",
      " [1. 0. 0. 0. 1. 0. 0. 1.]\n",
      " [0. 0. 0. 0. 0. 1. 0. 0.]\n",
      " [0. 0. 1. 0. 0. 0. 1. 0.]\n",
      " [1. 1. 0. 1. 0. 0. 1. 1.]\n",
      " [0. 1. 0. 0. 1. 1. 0. 1.]\n",
      " [0. 1. 1. 0. 0. 1. 1. 0.]]\n",
      "Adjacency Matrix (Array Form):\n",
      "[[0. 1. 0. 0. 1. 0. 1. 1.]\n",
      " [1. 0. 0. 0. 1. 1. 1. 0.]\n",
      " [0. 0. 0. 0. 0. 1. 1. 0.]\n",
      " [0. 0. 0. 0. 1. 1. 0. 1.]\n",
      " [1. 1. 0. 1. 0. 1. 1. 0.]\n",
      " [0. 1. 1. 1. 1. 0. 0. 1.]\n",
      " [1. 1. 1. 0. 1. 0. 0. 1.]\n",
      " [1. 0. 0. 1. 0. 1. 1. 0.]]\n",
      "Adjacency Matrix (Array Form):\n",
      "[[0. 1. 1. 1. 1. 0. 1. 0.]\n",
      " [1. 0. 1. 1. 1. 0. 0. 1.]\n",
      " [1. 1. 0. 0. 1. 0. 1. 0.]\n",
      " [1. 1. 0. 0. 1. 0. 0. 0.]\n",
      " [1. 1. 1. 1. 0. 0. 0. 1.]\n",
      " [0. 0. 0. 0. 0. 0. 1. 1.]\n",
      " [1. 0. 1. 0. 0. 1. 0. 0.]\n",
      " [0. 1. 0. 0. 1. 1. 0. 0.]]\n",
      "Adjacency Matrix (Array Form):\n",
      "[[0. 1. 0. 0. 1. 0. 1. 1.]\n",
      " [1. 0. 1. 1. 0. 1. 1. 1.]\n",
      " [0. 1. 0. 1. 1. 1. 0. 1.]\n",
      " [0. 1. 1. 0. 1. 0. 0. 1.]\n",
      " [1. 0. 1. 1. 0. 0. 0. 1.]\n",
      " [0. 1. 1. 0. 0. 0. 1. 0.]\n",
      " [1. 1. 0. 0. 0. 1. 0. 1.]\n",
      " [1. 1. 1. 1. 1. 0. 1. 0.]]\n",
      "Adjacency Matrix (Array Form):\n",
      "[[0. 1. 0. 1. 0. 0. 1. 0.]\n",
      " [1. 0. 1. 1. 1. 1. 0. 1.]\n",
      " [0. 1. 0. 0. 0. 0. 0. 1.]\n",
      " [1. 1. 0. 0. 0. 1. 0. 0.]\n",
      " [0. 1. 0. 0. 0. 1. 1. 1.]\n",
      " [0. 1. 0. 1. 1. 0. 1. 0.]\n",
      " [1. 0. 0. 0. 1. 1. 0. 1.]\n",
      " [0. 1. 1. 0. 1. 0. 1. 0.]]\n"
     ]
    }
   ],
   "source": [
    "for g in graphs:\n",
    "    adj_matrix = nx.to_numpy_array(g)\n",
    "    print(\"Adjacency Matrix (Array Form):\")\n",
    "    print(adj_matrix)"
   ]
  }
 ],
 "metadata": {
  "kernelspec": {
   "display_name": "Python 3 (ipykernel)",
   "language": "python",
   "name": "python3"
  },
  "language_info": {
   "codemirror_mode": {
    "name": "ipython",
    "version": 3
   },
   "file_extension": ".py",
   "mimetype": "text/x-python",
   "name": "python",
   "nbconvert_exporter": "python",
   "pygments_lexer": "ipython3",
   "version": "3.12.2"
  }
 },
 "nbformat": 4,
 "nbformat_minor": 5
}
