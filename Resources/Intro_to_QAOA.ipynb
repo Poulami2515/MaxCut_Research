{
 "cells": [
  {
   "cell_type": "markdown",
   "metadata": {
    "colab_type": "text",
    "id": "view-in-github"
   },
   "source": [
    "<a href=\"https://colab.research.google.com/github/MonitSharma/Learn-Quantum-Machine-Learning/blob/main/Intro_to_QAOA.ipynb\" target=\"_parent\"><img src=\"https://colab.research.google.com/assets/colab-badge.svg\" alt=\"Open In Colab\"/></a>"
   ]
  },
  {
   "cell_type": "markdown",
   "metadata": {
    "id": "MhREMTc8yhj1"
   },
   "source": [
    "# Intro to QAOA\n",
    "\n",
    "The Quantum Approximate Optimization Algorithm (QAOA) is a widely-studied method for solving combinatorial optimization problems on NISQ devices. The applications of QAOA are broad and far-reaching, and the performance of the algorithm is of great interest to the quantum computing research community\n",
    "\n",
    "\n",
    "![qaoa](https://pennylane.ai/qml/_images/qaoa_circuit.png)\n",
    "\n",
    "\n",
    "The goal of this tutorial is to introduce the basic concepts of QAOA and to guide you through PennyLane’s built-in QAOA functionality. You will learn how to use time evolution to establish a connection between Hamiltonians and quantum circuits, and how to layer these circuits to create more powerful algorithms. These simple ingredients, together with the ability to optimize quantum circuits, are the building blocks of QAOA. By focusing on the fundamentals, PennyLane provides general and flexible capabilities that can be tailored and refined to implement QAOA for a wide variety of problems. In the last part of the tutorial, you will learn how to bring these pieces together and deploy a complete QAOA workflow to solve the minimum vertex cover problem. Let’s get started! 🎉\n"
   ]
  },
  {
   "cell_type": "markdown",
   "metadata": {
    "id": "yTEum_7cyubq"
   },
   "source": [
    "## Circuits and Hamiltonians\n",
    "\n",
    "When considering quantum circuits, it is often convenient to define them by a series of quantum gates. But there are many instances where it is useful to think of a quantum circuit in terms of a Hamiltonian. Indeed, gates are physically implemented by performing time evolution under a carefully engineered Hamiltonian. These transformations are described by the time evolution operator, which is a unitary defined as:\n",
    "\n",
    "$$U(H, \\ t) \\ = \\ e^{-i H t / \\hbar}.$$\n",
    "\n",
    "\n",
    "-----\n",
    "\n",
    "The time evolution operator is determined completely in terms of a Hamiltonian $H$ and a scalar $t$ representing time. In fact, any unitary $U$ can be written in the form $e^{i \\gamma H}$ where $\\gamma$ is a scalar and $H$ is a Hermitian operator, interpreted as a Hamiltonian. Thus, time evolution establishes a connection that allows us to describe quantum circuits in terms of Hamiltonians.\n",
    "\n",
    "\n",
    "\n",
    "\n",
    "\n",
    "--------\n",
    "--------\n",
    "\n",
    "In general, implementing a quantum circuit that exactly exponentiates a Hamiltonian with many non-commuting terms, i.e., a Hamiltonian of the form:\n",
    "\n",
    "$$H \\ = \\ H_1 \\ + \\ H_2 \\ + \\ H_3 \\ + \\ \\cdots \\ + \\ H_N,$$\n",
    "\n",
    "is very challenging. Instead, we can use the [Trotter-Suzuki](https://en.wikipedia.org/wiki/Lie_product_formula) decomposition formula\n",
    "\n",
    "$$e^{A \\ + \\ B} \\ \\approx \\ \\Big(e^{A/n} e^{B/n}\\Big)^{n},$$\n",
    "\n",
    "to implement an *approximate* time-evolution unitary:\n",
    "\n",
    "$$U(H, t, n) \\ = \\ \\displaystyle\\prod_{j \\ = \\ 1}^{n}\n",
    "\\displaystyle\\prod_{k} e^{-i H_k t / n} \\ \\ \\ \\ \\ \\ \\ \\ \\ \\ H \\\n",
    "= \\ \\displaystyle\\sum_{k} H_k,$$\n",
    "\n",
    "where $U$ approaches $e^{-i H t}$ as $n$ becomes larger.\n",
    "\n",
    "![larger](https://pennylane.ai/qml/_images/ham_circuit.png)\n",
    "\n",
    "\n",
    "\n",
    "In PennyLane, this is implemented using the ApproxTimeEvolution() template. For example, let’s say we have the following Hamiltonian:\n",
    "\n",
    "\n",
    "\n",
    "\n",
    "\n"
   ]
  },
  {
   "cell_type": "code",
   "execution_count": 1,
   "metadata": {
    "colab": {
     "base_uri": "https://localhost:8080/"
    },
    "id": "2m0OyFSBwot4",
    "outputId": "a5402f87-f756-4eb4-e929-4cee717ab0c3"
   },
   "outputs": [
    {
     "name": "stdout",
     "output_type": "stream",
     "text": [
      "1 * X(0) + 1 * Z(1) + 0.5 * (X(0) @ X(1))\n"
     ]
    }
   ],
   "source": [
    "import pennylane as qml\n",
    "\n",
    "H = qml.Hamiltonian(\n",
    "    [1, 1, 0.5],\n",
    "    [qml.PauliX(0), qml.PauliZ(1), qml.PauliX(0) @ qml.PauliX(1)]\n",
    ")\n",
    "print(H)\n"
   ]
  },
  {
   "cell_type": "markdown",
   "metadata": {
    "id": "Y00MkgzM0JPu"
   },
   "source": [
    "We can implement the approximate time-evolution operator corresponding to this Hamiltonian:"
   ]
  },
  {
   "cell_type": "code",
   "execution_count": 2,
   "metadata": {},
   "outputs": [],
   "source": [
    "import matplotlib.pyplot as plt"
   ]
  },
  {
   "cell_type": "code",
   "execution_count": 3,
   "metadata": {
    "colab": {
     "base_uri": "https://localhost:8080/"
    },
    "id": "9FJ0VQumwqhk",
    "outputId": "0b018f7d-70be-4ab7-ecc3-40241dfd7431"
   },
   "outputs": [
    {
     "data": {
      "image/png": "[encoded data removed]",
      "text/plain": [
       "<Figure size 700x300 with 1 Axes>"
      ]
     },
     "metadata": {},
     "output_type": "display_data"
    }
   ],
   "source": [
    "dev = qml.device('default.qubit', wires=2)\n",
    "\n",
    "t = 1\n",
    "n = 2\n",
    "\n",
    "@qml.qnode(dev)\n",
    "def circuit():\n",
    "    qml.ApproxTimeEvolution(H, t, n)\n",
    "    return [qml.expval(qml.PauliZ(i)) for i in range(2)]\n",
    "\n",
    "fig, ax = qml.draw_mpl(circuit, expansion_strategy='device')()\n",
    "plt.show()"
   ]
  },
  {
   "cell_type": "markdown",
   "metadata": {
    "id": "Bepj3n7I0NjB"
   },
   "source": [
    "## Layering circuits\n",
    "\n",
    "Think of all the times you have copied a text or image, then pasted it repeatedly to create many duplicates. This is also a useful feature when designing quantum algorithms! The idea of repetition is ubiquitous in quantum computing: from amplitude amplification in [Grover’s algorithm](https://en.wikipedia.org/wiki/Grover%27s_algorithm) to layers in [quantum neural networks](https://journals.aps.org/prresearch/abstract/10.1103/PhysRevResearch.1.033063) and [Hamiltonian simulation](https://en.wikipedia.org/wiki/Hamiltonian_simulation), repeated application of a circuit is a central tool in quantum algorithms.\n",
    "\n",
    "\n",
    "\n",
    "\n",
    "\n",
    "\n",
    "![al](https://pennylane.ai/qml/_images/repeat.png)\n",
    "\n",
    "\n",
    "--------\n",
    "\n",
    "\n",
    "Circuit repetition is implemented in PennyLane using the `layer()` function. This method allows us to take a function containing either quantum operations, a template, or even a single quantum gate, and repeatedly apply it to a set of wires.\n",
    "\n",
    "\n",
    "![im](https://pennylane.ai/qml/_images/qml_layer.png)\n",
    "\n",
    "\n",
    "To create a larger circuit consisting of many repetitions, we pass the circuit to be repeated as an argument and specify the number of repetitions. For example, let’s say that we want to layer the following circuit three times:\n",
    "\n",
    "\n",
    "\n"
   ]
  },
  {
   "cell_type": "code",
   "execution_count": 4,
   "metadata": {
    "colab": {
     "base_uri": "https://localhost:8080/"
    },
    "id": "_PMXKvmkwsep",
    "outputId": "ffc08376-c24b-42e2-d4aa-484fd3912c49"
   },
   "outputs": [
    {
     "name": "stdout",
     "output_type": "stream",
     "text": [
      "(<Figure size 500x300 with 1 Axes>, <Axes: >)\n"
     ]
    },
    {
     "data": {
      "image/png": "[encoded data removed]",
      "text/plain": [
       "<Figure size 500x300 with 1 Axes>"
      ]
     },
     "metadata": {},
     "output_type": "display_data"
    }
   ],
   "source": [
    "def circ(theta):\n",
    "    qml.RX(theta, wires=0)\n",
    "    qml.Hadamard(wires=1)\n",
    "    qml.CNOT(wires=[0, 1])\n",
    "\n",
    "@qml.qnode(dev)\n",
    "def circuit(param):\n",
    "    circ(param)\n",
    "    return [qml.expval(qml.PauliZ(i)) for i in range(2)]\n",
    "\n",
    "print(qml.draw_mpl(circuit)(0.5))"
   ]
  },
  {
   "cell_type": "markdown",
   "metadata": {
    "id": "9mHGPDjx0yWO"
   },
   "source": [
    "We simply pass this function into the `layer()` function:"
   ]
  },
  {
   "cell_type": "code",
   "execution_count": 5,
   "metadata": {
    "colab": {
     "base_uri": "https://localhost:8080/"
    },
    "id": "1xpgoXzewusx",
    "outputId": "a5bc04b5-5db0-4c2e-8993-67d3e0ebf753"
   },
   "outputs": [
    {
     "name": "stdout",
     "output_type": "stream",
     "text": [
      "(<Figure size 900x300 with 1 Axes>, <Axes: >)\n"
     ]
    },
    {
     "data": {
      "image/png": "[encoded data removed]",
      "text/plain": [
       "<Figure size 900x300 with 1 Axes>"
      ]
     },
     "metadata": {},
     "output_type": "display_data"
    }
   ],
   "source": [
    "@qml.qnode(dev)\n",
    "def circuit(params, **kwargs):\n",
    "    qml.layer(circ, 3, params)\n",
    "    return [qml.expval(qml.PauliZ(i)) for i in range(2)]\n",
    "\n",
    "print(qml.draw_mpl(circuit)([0.3, 0.4, 0.5]))"
   ]
  },
  {
   "cell_type": "markdown",
   "metadata": {
    "id": "JYFYd9H-05GM"
   },
   "source": [
    "We have learned how time evolution can be used to create circuits from Hamiltonians, and how these can be layered to create longer circuits. We are now ready to explore QAOA."
   ]
  },
  {
   "cell_type": "markdown",
   "metadata": {
    "id": "G4_QXHHY07I_"
   },
   "source": [
    "## QAOA\n",
    "\n",
    "The quantum approximate optimization algorithm (QAOA) is a general technique that can be used to find approximate solutions to combinatorial optimization problems, in particular problems that can be cast as searching for an optimal bitstring. QAOA consists of the following steps:\n",
    "\n",
    "\n",
    "1.  Define a cost Hamiltonian $H_C$ such that its ground state encodes the solution to the optimization problem.\n",
    "\n",
    "2. Define a mixer Hamiltonian $H_M$.\n",
    "\n",
    "3. Construct the circuits $e^{-i \\gamma H_C}$ and $e^{-i\\alpha H_M}$. We call these the cost and mixer layers.\n",
    "\n",
    "4. Choose a parameter $n \\ge 1$ and build the circuit:\n",
    "\n",
    "  $$U(\\boldsymbol\\gamma, \\ \\boldsymbol\\alpha) \\ = \\ e^{-i \\alpha_n H_M}\n",
    "e^{-i \\gamma_n H_C} \\ ... \\ e^{-i \\alpha_1 H_M} e^{-i \\gamma_1 H_C},$$\n",
    "  consisting of repeated application of the cost and mixer layers.\n",
    "\n",
    "\n",
    "5. Prepare an initial state, apply $U(\\alpha, \\gamma)$ and use classical techniques to optimize the parameters.\n",
    "\n",
    "\n",
    "6. After the circuit has been optimized, measurements of the output state reveal approximate solutions to the optimization problem\n",
    "\n",
    "\n",
    "\n",
    "In summary, the starting point of QAOA is the specification of cost and mixer Hamiltonians. We then use time evolution and layering to create a variational circuit and optimize its parameters. The algorithm concludes by sampling from the circuit to get an approximate solution to the optimization problem. Let’s see it in action! \n",
    "\n"
   ]
  },
  {
   "cell_type": "markdown",
   "metadata": {
    "id": "i_4EjV6E134Z"
   },
   "source": [
    "## Minimum Vertex Cover with QAOA\n",
    "\n",
    "Our goal is to find the minimum vertex cover of a graph: a collection of vertices such that each edge in the graph contains at least one of the vertices in the cover. Hence, these vertices “cover” all the edges 👍. We wish to find the vertex cover that has the smallest possible number of vertices.\n",
    "\n",
    "Vertex covers can be represented by a bit string where each bit denotes whether the corresponding vertex is present in the cover. For example, the bit string 01010 represents a cover consisting of the second and fourth vertex in a graph with five vertices.\n",
    "\n",
    "![alt](https://pennylane.ai/qml/_images/minvc.png)\n",
    "\n",
    "\n",
    "Import the dependencies:\n"
   ]
  },
  {
   "cell_type": "code",
   "execution_count": 6,
   "metadata": {
    "id": "GJ8R2iPSwwpE"
   },
   "outputs": [],
   "source": [
    "from pennylane import qaoa\n",
    "from pennylane import numpy as np\n",
    "from matplotlib import pyplot as plt\n",
    "import networkx as nx"
   ]
  },
  {
   "cell_type": "markdown",
   "metadata": {
    "id": "E2vu9CfF2EaK"
   },
   "source": [
    "We also define the four-vertex graph for which we want to find the minimum vertex cover:"
   ]
  },
  {
   "cell_type": "code",
   "execution_count": 7,
   "metadata": {
    "colab": {
     "base_uri": "https://localhost:8080/",
     "height": 319
    },
    "id": "synrw1zawy51",
    "outputId": "2247892b-8ea6-49ff-d2f2-782be51387c7"
   },
   "outputs": [
    {
     "data": {
      "image/png": "[encoded data removed]",
      "text/plain": [
       "<Figure size 640x480 with 1 Axes>"
      ]
     },
     "metadata": {},
     "output_type": "display_data"
    }
   ],
   "source": [
    "edges = [(0, 1), (1, 2), (2, 0), (2, 3)]\n",
    "graph = nx.Graph(edges)\n",
    "\n",
    "nx.draw(graph, with_labels=True)\n",
    "plt.show()"
   ]
  },
  {
   "cell_type": "markdown",
   "metadata": {
    "id": "mrYVX2z32KK1"
   },
   "source": [
    "There are two minimum vertex covers of this graph: the vertices 0 and 2, and the vertices 1 and 2. These can be respectively represented by the bit strings 1010 and 0110. The goal of the algorithm is to sample these bit strings with high probability.\n",
    "\n",
    "The PennyLane QAOA module has a collection of built-in optimization problems, including minimum vertex cover. For each problem, you can retrieve the cost Hamiltonian as well as a recommended mixer Hamiltonian. This makes it straightforward to obtain the Hamiltonians for specific problems while still permitting the flexibility to make other choices, for example by adding constraints or experimenting with different mixers.\n",
    "\n",
    "In our case, the cost Hamiltonian has two ground states, |1010⟩ and |0110⟩, coinciding with the solutions of the problem. The mixer Hamiltonian is the simple, non-commuting sum of Pauli-X operations on each node of the graph:\n",
    "\n"
   ]
  },
  {
   "cell_type": "code",
   "execution_count": 8,
   "metadata": {
    "colab": {
     "base_uri": "https://localhost:8080/"
    },
    "id": "Rff7K4zBw0vw",
    "outputId": "dd2451cf-4b0e-42c9-eed9-12aed2582a6c"
   },
   "outputs": [
    {
     "name": "stdout",
     "output_type": "stream",
     "text": [
      "Cost Hamiltonian 0.75 * (Z(0) @ Z(1)) + 0.75 * Z(0) + 0.75 * Z(1) + 0.75 * (Z(0) @ Z(2)) + 0.75 * Z(0) + 0.75 * Z(2) + 0.75 * (Z(1) @ Z(2)) + 0.75 * Z(1) + 0.75 * Z(2) + 0.75 * (Z(2) @ Z(3)) + 0.75 * Z(2) + 0.75 * Z(3) + -1.0 * Z(0) + -1.0 * Z(1) + -1.0 * Z(2) + -1.0 * Z(3)\n",
      "Mixer Hamiltonian 1 * X(0) + 1 * X(1) + 1 * X(2) + 1 * X(3)\n"
     ]
    }
   ],
   "source": [
    "cost_h, mixer_h = qaoa.min_vertex_cover(graph, constrained=False)\n",
    "\n",
    "print(\"Cost Hamiltonian\", cost_h)\n",
    "print(\"Mixer Hamiltonian\", mixer_h)"
   ]
  },
  {
   "cell_type": "markdown",
   "metadata": {
    "id": "Z8p3LkO52PUR"
   },
   "source": [
    "A single layer of QAOA consists of time evolution under these Hamiltonians:\n",
    "\n",
    "![](https://pennylane.ai/qml/_images/layer.png)\n",
    "\n",
    "\n",
    "While it is possible to use `ApproxTimeEvolution()`, the QAOA module allows you to build the cost and mixer layers directly using the functions `cost_layer()` and `mixer_layer()`, which take as input the respective Hamiltonian and variational parameters:\n"
   ]
  },
  {
   "cell_type": "code",
   "execution_count": 9,
   "metadata": {
    "id": "gJuJ41PHw3FR"
   },
   "outputs": [],
   "source": [
    "def qaoa_layer(gamma, alpha):\n",
    "    qaoa.cost_layer(gamma, cost_h)\n",
    "    qaoa.mixer_layer(alpha, mixer_h)"
   ]
  },
  {
   "cell_type": "markdown",
   "metadata": {
    "id": "oPWD5zoK2bqd"
   },
   "source": [
    "We are now ready to build the full variational circuit. The number of wires is equal to the number of vertices of the graph. We initialize the state to an even superposition over all basis states. For this example, we employ a circuit consisting of two QAOA layers:"
   ]
  },
  {
   "cell_type": "code",
   "execution_count": 10,
   "metadata": {
    "id": "rOgPezZvw5D4"
   },
   "outputs": [],
   "source": [
    "wires = range(4)\n",
    "depth = 2\n",
    "\n",
    "def circuit(params, **kwargs):\n",
    "    for w in wires:\n",
    "        qml.Hadamard(wires=w)\n",
    "    qml.layer(qaoa_layer, depth, params[0], params[1])"
   ]
  },
  {
   "cell_type": "markdown",
   "metadata": {
    "id": "DMRI8h3P2g7b"
   },
   "source": [
    "Note that `layer()` allows us to pass variational parameters `params[0]` and `params[1]` into each layer of the circuit. That’s it! The last step is PennyLane’s specialty: optimizing the circuit parameters.\n",
    "\n",
    "The cost function is the expectation value of $H_C$, which we want to minimize. We use the function `expval()` which returns the expectation value of the Hamiltonian with respect to the circuit’s output state. We also define the device on which the simulation is performed. We use the PennyLane-Qulacs plugin to run the circuit on the Qulacs simulator:"
   ]
  },
  {
   "cell_type": "code",
   "execution_count": null,
   "metadata": {
    "id": "yAO9WDCsxl8A"
   },
   "outputs": [],
   "source": [
    "!pip install pennylane-qulacs[\"cpu\"]"
   ]
  },
  {
   "cell_type": "code",
   "execution_count": 11,
   "metadata": {
    "id": "_BO4hhsew61l"
   },
   "outputs": [],
   "source": [
    "dev = qml.device(\"qulacs.simulator\", wires=wires)\n",
    "\n",
    "@qml.qnode(dev)\n",
    "def cost_function(params):\n",
    "    circuit(params)\n",
    "    return qml.expval(cost_h)"
   ]
  },
  {
   "cell_type": "markdown",
   "metadata": {
    "id": "SwQAns4Z2vCi"
   },
   "source": [
    "Finally, we optimize the cost function using the built-in `GradientDescentOptimizer()`. We perform optimization for seventy steps and initialize the parameters"
   ]
  },
  {
   "cell_type": "code",
   "execution_count": 12,
   "metadata": {
    "id": "xK5yGnpkw89G"
   },
   "outputs": [],
   "source": [
    "optimizer = qml.GradientDescentOptimizer()\n",
    "steps = 70\n",
    "params = np.array([[0.5, 0.5], [0.5, 0.5]], requires_grad=True)"
   ]
  },
  {
   "cell_type": "markdown",
   "metadata": {
    "id": "sj4SSZxG21TE"
   },
   "source": [
    "Notice that we set each of the initial parameters to $0.5$. For demonstration purposes, we chose initial parameters that we know work fairly well, and don’t get stuck in any local minima.\n",
    "\n",
    "The choice of initial parameters for a variational circuit is usually a difficult problem, so we won’t linger on it too much in this tutorial, but it is important to note that finding an initial set of parameters that work well for a few toy problems often yields good results for more complex instances of the algorithm as well.\n",
    "\n",
    "\n",
    "Now, we can optimize the circuit:"
   ]
  },
  {
   "cell_type": "code",
   "execution_count": 13,
   "metadata": {
    "colab": {
     "base_uri": "https://localhost:8080/"
    },
    "id": "GHv6fYTIyNcG",
    "outputId": "26b89e95-8624-45d6-8c05-bd81f613a645"
   },
   "outputs": [
    {
     "name": "stdout",
     "output_type": "stream",
     "text": [
      "Optimal Parameters\n",
      "[[0.59806352 0.94198485]\n",
      " [0.52797281 0.85552845]]\n"
     ]
    }
   ],
   "source": [
    "for i in range(steps):\n",
    "    params = optimizer.step(cost_function, params)\n",
    "\n",
    "print(\"Optimal Parameters\")\n",
    "print(params)"
   ]
  },
  {
   "cell_type": "markdown",
   "metadata": {
    "id": "15ixDXTx2_e5"
   },
   "source": [
    "With the optimal parameters, we can now reconstruct the probability landscape. We redefine the full QAOA circuit with the optimal parameters, but this time we return the probabilities of measuring each bitstring:"
   ]
  },
  {
   "cell_type": "code",
   "execution_count": 14,
   "metadata": {
    "id": "xwN_Dx4MyPP8"
   },
   "outputs": [],
   "source": [
    "@qml.qnode(dev)\n",
    "def probability_circuit(gamma, alpha):\n",
    "    circuit([gamma, alpha])\n",
    "    return qml.probs(wires=wires)\n",
    "\n",
    "\n",
    "probs = probability_circuit(params[0], params[1])\n"
   ]
  },
  {
   "cell_type": "markdown",
   "metadata": {
    "id": "SfEuG8e63DDr"
   },
   "source": [
    "Finally, we can display a bar graph showing the probability of measuring each bitstring:"
   ]
  },
  {
   "cell_type": "code",
   "execution_count": 15,
   "metadata": {},
   "outputs": [],
   "source": [
    "import seaborn as sns\n",
    "import numpy as np"
   ]
  },
  {
   "cell_type": "code",
   "execution_count": 16,
   "metadata": {
    "colab": {
     "base_uri": "https://localhost:8080/",
     "height": 347
    },
    "id": "7ErxmdfyyRjd",
    "outputId": "52d19b6a-26e0-4c29-9342-320cf7e0a089"
   },
   "outputs": [
    {
     "name": "stderr",
     "output_type": "stream",
     "text": [
      "/tmp/ipykernel_13611/3021697599.py:3: FutureWarning: \n",
      "\n",
      "Passing `palette` without assigning `hue` is deprecated and will be removed in v0.14.0. Assign the `x` variable to `hue` and set `legend=False` for the same effect.\n",
      "\n",
      "  sns.barplot(x=bitstrings, y=probs, palette='Blues_d', legend='False')\n"
     ]
    },
    {
     "data": {
      "image/png": "[encoded data removed]",
      "text/plain": [
       "<Figure size 640x480 with 1 Axes>"
      ]
     },
     "metadata": {},
     "output_type": "display_data"
    }
   ],
   "source": [
    "sns.set(style = 'whitegrid')\n",
    "bitstrings = np.array([0,1,2,3,4,5,6,7,8,9,10,11,12,13,14,15])\n",
    "sns.barplot(x=bitstrings, y=probs, palette='Blues_d', legend='False')\n",
    "plt.show()"
   ]
  },
  {
   "cell_type": "markdown",
   "metadata": {
    "id": "lH8aUYEl3HIy"
   },
   "source": [
    "The states $|6⟩ = |0110⟩$ and $|10⟩ = |1010⟩$ have the highest probabilities of being measured, just as expected!\n",
    "\n",
    "\n",
    "![](https://pennylane.ai/qml/_images/graph.png)"
   ]
  },
  {
   "cell_type": "markdown",
   "metadata": {
    "id": "STcWNDPf3PHH"
   },
   "source": [
    "## Customizing QAOA\n",
    "\n",
    "QAOA is not one-size-fits-all when it comes to solving optimization problems. In many cases, cost and mixer Hamiltonians will be very specific to one scenario, and not necessarily fit within the structure of the pre-defined problems in the `qaoa()` submodule. Luckily, one of the core principles behind the entire PennyLane library is customizability, and this principle hold true for QAOA submodule as well!\n",
    "\n",
    "The QAOA workflow above gave us two optimal solutions: $|6⟩=|0110⟩$ and $|10⟩=|1010⟩$. What if we add a constraint that made one of these solutions “better” than the other? Let’s imagine that we are interested in solutions that minimize the original cost function, but also colour the first and third vertices $1$. A constraint of this form will favour $|10⟩$, making it the only true ground state.\n",
    "\n",
    "It is easy to introduce constraints of this form in PennyLane. We can use the `edge_driver()` cost Hamiltonian to “reward” cases in which the first and last vertices of the graph are $0$:\n"
   ]
  },
  {
   "cell_type": "code",
   "execution_count": 17,
   "metadata": {
    "id": "vYzcM3HTyTMG"
   },
   "outputs": [],
   "source": [
    "reward_h = qaoa.edge_driver(nx.Graph([(0, 2)]), ['11'])"
   ]
  },
  {
   "cell_type": "markdown",
   "metadata": {
    "id": "tESNfeHw3lmP"
   },
   "source": [
    "We then weigh and add the constraining term to the original minimum vertex cover Hamiltonian:"
   ]
  },
  {
   "cell_type": "code",
   "execution_count": 18,
   "metadata": {
    "id": "hTAwwQKDyVtX"
   },
   "outputs": [],
   "source": [
    "new_cost_h = cost_h + 2 * reward_h"
   ]
  },
  {
   "cell_type": "markdown",
   "metadata": {
    "id": "5kgIawAO3n7f"
   },
   "source": [
    "Notice that PennyLane allows for simple addition and multiplication of Hamiltonian objects using inline arithmetic operations ➕ ➖ ✖️➗! Finally, we can use this new cost Hamiltonian to define a new QAOA workflow:"
   ]
  },
  {
   "cell_type": "code",
   "execution_count": 19,
   "metadata": {},
   "outputs": [],
   "source": [
    "from pennylane.optimize import GradientDescentOptimizer"
   ]
  },
  {
   "cell_type": "code",
   "execution_count": 21,
   "metadata": {
    "colab": {
     "base_uri": "https://localhost:8080/"
    },
    "id": "AsRMVF0lyXkD",
    "outputId": "06f6a3c0-ab6f-4ada-ba0f-3ac8b86a7d27"
   },
   "outputs": [
    {
     "name": "stdout",
     "output_type": "stream",
     "text": [
      "Optimal Parameters\n",
      "[[0.45959941 0.96095271]\n",
      " [0.27029962 0.78042396]]\n"
     ]
    }
   ],
   "source": [
    "def qaoa_layer(gamma, alpha):\n",
    "    qaoa.cost_layer(gamma, new_cost_h)\n",
    "    qaoa.mixer_layer(alpha, mixer_h)\n",
    "\n",
    "def circuit(params, **kwargs):\n",
    "    for w in wires:\n",
    "        qml.Hadamard(wires=w)\n",
    "    qml.layer(qaoa_layer, depth, params[0], params[1])\n",
    "\n",
    "@qml.qnode(dev)\n",
    "def cost_function(params):\n",
    "    circuit(params)\n",
    "    return qml.expval(new_cost_h)\n",
    "\n",
    "params = qml.numpy.array([[0.5, 0.5], [0.5, 0.5]], requires_grad=True)\n",
    "\n",
    "for i in range(steps):\n",
    "    params = optimizer.step(cost_function, params)\n",
    "\n",
    "print(\"Optimal Parameters\")\n",
    "print(params)"
   ]
  },
  {
   "cell_type": "markdown",
   "metadata": {
    "id": "b2_ugtNy3tOi"
   },
   "source": [
    "We then reconstruct the probability landscape with the optimal parameters:"
   ]
  },
  {
   "cell_type": "code",
   "execution_count": 22,
   "metadata": {
    "colab": {
     "base_uri": "https://localhost:8080/",
     "height": 347
    },
    "id": "QSEsS17Iya8g",
    "outputId": "7f9c9576-baaf-45c4-aead-cd6095283284"
   },
   "outputs": [
    {
     "name": "stderr",
     "output_type": "stream",
     "text": [
      "/tmp/ipykernel_13611/3569842588.py:10: FutureWarning: \n",
      "\n",
      "Passing `palette` without assigning `hue` is deprecated and will be removed in v0.14.0. Assign the `x` variable to `hue` and set `legend=False` for the same effect.\n",
      "\n",
      "  sns.barplot(x=bitstrings, y=probs, palette='Blues_d', legend='False')\n"
     ]
    },
    {
     "data": {
      "image/png": "[encoded data removed]",
      "text/plain": [
       "<Figure size 640x480 with 1 Axes>"
      ]
     },
     "metadata": {},
     "output_type": "display_data"
    }
   ],
   "source": [
    "@qml.qnode(dev)\n",
    "def probability_circuit(gamma, alpha):\n",
    "    circuit([gamma, alpha])\n",
    "    return qml.probs(wires=wires)\n",
    "\n",
    "probs = probability_circuit(params[0], params[1])\n",
    "\n",
    "sns.set(style = 'whitegrid')\n",
    "bitstrings = np.array([0,1,2,3,4,5,6,7,8,9,10,11,12,13,14,15])\n",
    "sns.barplot(x=bitstrings, y=probs, palette='Blues_d', legend='False')\n",
    "plt.show()"
   ]
  },
  {
   "cell_type": "markdown",
   "metadata": {
    "id": "ejAXXrbE3yMD"
   },
   "source": [
    "Just as we expected, the $|10⟩$ state is now favoured over $|6⟩$!"
   ]
  },
  {
   "cell_type": "markdown",
   "metadata": {
    "id": "xkQ771kj32k7"
   },
   "source": [
    "## Summary\n",
    "\n",
    "We have learned how to use the PennyLane QAOA functionality, while also surveying some of the fundamental features that make the QAOA module simple and flexible.\n",
    "\n",
    "\n",
    "![alt](https://pennylane.ai/qml/_images/qaoa_circuit.png)\n"
   ]
  }
 ],
 "metadata": {
  "colab": {
   "authorship_tag": "ABX9TyPLlIWwBgrB8aPKFFOpwRPW",
   "include_colab_link": true,
   "provenance": []
  },
  "kernelspec": {
   "display_name": "Python 3 (ipykernel)",
   "language": "python",
   "name": "python3"
  },
  "language_info": {
   "codemirror_mode": {
    "name": "ipython",
    "version": 3
   },
   "file_extension": ".py",
   "mimetype": "text/x-python",
   "name": "python",
   "nbconvert_exporter": "python",
   "pygments_lexer": "ipython3",
   "version": "3.12.2"
  }
 },
 "nbformat": 4,
 "nbformat_minor": 4
}
